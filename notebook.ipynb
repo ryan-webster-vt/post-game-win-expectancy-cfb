{
 "cells": [
  {
   "cell_type": "code",
   "execution_count": 1,
   "id": "ef8c0143",
   "metadata": {},
   "outputs": [],
   "source": [
    "import pandas as pd\n",
    "import numpy as np\n",
    "import matplotlib as mtl\n",
    "from sklearn.model_selection import train_test_split\n",
    "from sklearn.metrics import confusion_matrix, ConfusionMatrixDisplay, classification_report\n",
    "import statsmodels.api as sm"
   ]
  },
  {
   "cell_type": "code",
   "execution_count": 2,
   "id": "3f988eb3",
   "metadata": {},
   "outputs": [],
   "source": [
    "df = pd.read_csv(\"df.csv\")\n",
    "df = pd.DataFrame(df)"
   ]
  },
  {
   "cell_type": "code",
   "execution_count": 3,
   "id": "a7da91fa",
   "metadata": {},
   "outputs": [],
   "source": [
    "X = df[['total_home_EPA']]\n",
    "X = sm.add_constant(X)\n",
    "y = df['home_win']\n",
    "\n",
    "X_train, X_test, y_train, y_test = train_test_split(X, y, test_size = 0.3, random_state = 42)"
   ]
  },
  {
   "cell_type": "code",
   "execution_count": 4,
   "id": "951eb9c6",
   "metadata": {},
   "outputs": [
    {
     "name": "stdout",
     "output_type": "stream",
     "text": [
      "Optimization terminated successfully.\n",
      "         Current function value: 0.338615\n",
      "         Iterations 7\n",
      "                           Logit Regression Results                           \n",
      "==============================================================================\n",
      "Dep. Variable:               home_win   No. Observations:                 1596\n",
      "Model:                          Logit   Df Residuals:                     1594\n",
      "Method:                           MLE   Df Model:                            1\n",
      "Date:                Thu, 21 Aug 2025   Pseudo R-squ.:                  0.4662\n",
      "Time:                        01:22:13   Log-Likelihood:                -540.43\n",
      "converged:                       True   LL-Null:                       -1012.4\n",
      "Covariance Type:            nonrobust   LLR p-value:                2.823e-207\n",
      "==================================================================================\n",
      "                     coef    std err          z      P>|z|      [0.025      0.975]\n",
      "----------------------------------------------------------------------------------\n",
      "const              0.4154      0.076      5.445      0.000       0.266       0.565\n",
      "total_home_EPA     0.1573      0.008     18.893      0.000       0.141       0.174\n",
      "==================================================================================\n"
     ]
    }
   ],
   "source": [
    "model = sm.Logit(y_train, X_train)\n",
    "result = model.fit()\n",
    "print(result.summary())"
   ]
  },
  {
   "cell_type": "code",
   "execution_count": 5,
   "id": "58eaa685",
   "metadata": {},
   "outputs": [
    {
     "name": "stdout",
     "output_type": "stream",
     "text": [
      "Confusion Matrix:\n",
      " [[179  52]\n",
      " [ 47 407]]\n",
      "Accuracy: 0.855\n",
      "True Positives: 407, True Negatives: 179, False Positives: 52, False Negatives: 47\n"
     ]
    }
   ],
   "source": [
    "y_pred_prob = result.predict(X_test)\n",
    "df['prediction'] = result.predict(X)\n",
    "y_pred_class = (y_pred_prob >= 0.5).astype(int)\n",
    "\n",
    "y_true = np.array(y_test)\n",
    "y_pred = np.array(y_pred_class)\n",
    "cm = confusion_matrix(y_true, y_pred)\n",
    "print(\"Confusion Matrix:\\n\", cm)\n",
    "\n",
    "tn, fp, fn, tp = cm.ravel()\n",
    "\n",
    "# Metrics\n",
    "accuracy = (tp + tn) / (tn + fp + fn + tp)\n",
    "print(f\"Accuracy: {accuracy:.3f}\")\n",
    "print(f\"True Positives: {tp}, True Negatives: {tn}, False Positives: {fp}, False Negatives: {fn}\")"
   ]
  }
 ],
 "metadata": {
  "kernelspec": {
   "display_name": "Python 3",
   "language": "python",
   "name": "python3"
  },
  "language_info": {
   "codemirror_mode": {
    "name": "ipython",
    "version": 3
   },
   "file_extension": ".py",
   "mimetype": "text/x-python",
   "name": "python",
   "nbconvert_exporter": "python",
   "pygments_lexer": "ipython3",
   "version": "3.13.3"
  }
 },
 "nbformat": 4,
 "nbformat_minor": 5
}
